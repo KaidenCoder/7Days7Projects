{
 "cells": [
  {
   "cell_type": "code",
   "execution_count": null,
   "metadata": {},
   "outputs": [],
   "source": [
    "import pandas as pd\n",
    "import numpy as np\n",
    "import matplotlib.pyplot as plt\n",
    "import matplotlib.animation as animation\n",
    "from time import sleep\n",
    "import seaborn as sb\n",
    "%matplotlib nbagg\n",
    "\n",
    "data = pd.read_csv(r\"https://raw.githubusercontent.com/datasets/covid-19/master/data/countries-aggregated.csv\")\n",
    "# data = pd.read_csv(\"Dataset.csv\")\n",
    "data.tail(3)"
   ]
  },
  {
   "cell_type": "code",
   "execution_count": 52,
   "metadata": {},
   "outputs": [
    {
     "data": {
      "text/html": [
       "<div>\n",
       "<style scoped>\n",
       "    .dataframe tbody tr th:only-of-type {\n",
       "        vertical-align: middle;\n",
       "    }\n",
       "\n",
       "    .dataframe tbody tr th {\n",
       "        vertical-align: top;\n",
       "    }\n",
       "\n",
       "    .dataframe thead th {\n",
       "        text-align: right;\n",
       "    }\n",
       "</style>\n",
       "<table border=\"1\" class=\"dataframe\">\n",
       "  <thead>\n",
       "    <tr style=\"text-align: right;\">\n",
       "      <th></th>\n",
       "      <th>Date</th>\n",
       "      <th>Country</th>\n",
       "      <th>Confirmed</th>\n",
       "      <th>Recovered</th>\n",
       "      <th>Deaths</th>\n",
       "    </tr>\n",
       "  </thead>\n",
       "  <tbody>\n",
       "    <tr>\n",
       "      <td>20145</td>\n",
       "      <td>2020-01-22</td>\n",
       "      <td>India</td>\n",
       "      <td>0</td>\n",
       "      <td>0</td>\n",
       "      <td>0</td>\n",
       "    </tr>\n",
       "    <tr>\n",
       "      <td>20146</td>\n",
       "      <td>2020-01-23</td>\n",
       "      <td>India</td>\n",
       "      <td>0</td>\n",
       "      <td>0</td>\n",
       "      <td>0</td>\n",
       "    </tr>\n",
       "    <tr>\n",
       "      <td>20147</td>\n",
       "      <td>2020-01-24</td>\n",
       "      <td>India</td>\n",
       "      <td>0</td>\n",
       "      <td>0</td>\n",
       "      <td>0</td>\n",
       "    </tr>\n",
       "    <tr>\n",
       "      <td>20148</td>\n",
       "      <td>2020-01-25</td>\n",
       "      <td>India</td>\n",
       "      <td>0</td>\n",
       "      <td>0</td>\n",
       "      <td>0</td>\n",
       "    </tr>\n",
       "    <tr>\n",
       "      <td>20149</td>\n",
       "      <td>2020-01-26</td>\n",
       "      <td>India</td>\n",
       "      <td>0</td>\n",
       "      <td>0</td>\n",
       "      <td>0</td>\n",
       "    </tr>\n",
       "  </tbody>\n",
       "</table>\n",
       "</div>"
      ],
      "text/plain": [
       "             Date Country  Confirmed  Recovered  Deaths\n",
       "20145  2020-01-22   India          0          0       0\n",
       "20146  2020-01-23   India          0          0       0\n",
       "20147  2020-01-24   India          0          0       0\n",
       "20148  2020-01-25   India          0          0       0\n",
       "20149  2020-01-26   India          0          0       0"
      ]
     },
     "execution_count": 52,
     "metadata": {},
     "output_type": "execute_result"
    }
   ],
   "source": [
    "data_india = data[data[\"Country\"] == \"India\"]\n",
    "data_india.head()\n"
   ]
  },
  {
   "cell_type": "code",
   "execution_count": 16,
   "metadata": {},
   "outputs": [
    {
     "data": {
      "text/html": [
       "<div>\n",
       "<style scoped>\n",
       "    .dataframe tbody tr th:only-of-type {\n",
       "        vertical-align: middle;\n",
       "    }\n",
       "\n",
       "    .dataframe tbody tr th {\n",
       "        vertical-align: top;\n",
       "    }\n",
       "\n",
       "    .dataframe thead th {\n",
       "        text-align: right;\n",
       "    }\n",
       "</style>\n",
       "<table border=\"1\" class=\"dataframe\">\n",
       "  <thead>\n",
       "    <tr style=\"text-align: right;\">\n",
       "      <th></th>\n",
       "      <th>Date</th>\n",
       "      <th>Country</th>\n",
       "      <th>Confirmed</th>\n",
       "      <th>Recovered</th>\n",
       "      <th>Deaths</th>\n",
       "    </tr>\n",
       "  </thead>\n",
       "  <tbody>\n",
       "    <tr>\n",
       "      <td>20395</td>\n",
       "      <td>2020-09-28</td>\n",
       "      <td>India</td>\n",
       "      <td>6145291</td>\n",
       "      <td>5101397</td>\n",
       "      <td>96318</td>\n",
       "    </tr>\n",
       "    <tr>\n",
       "      <td>20396</td>\n",
       "      <td>2020-09-29</td>\n",
       "      <td>India</td>\n",
       "      <td>6225763</td>\n",
       "      <td>5187825</td>\n",
       "      <td>97497</td>\n",
       "    </tr>\n",
       "    <tr>\n",
       "      <td>20397</td>\n",
       "      <td>2020-09-30</td>\n",
       "      <td>India</td>\n",
       "      <td>6312584</td>\n",
       "      <td>5273201</td>\n",
       "      <td>98678</td>\n",
       "    </tr>\n",
       "    <tr>\n",
       "      <td>20398</td>\n",
       "      <td>2020-10-01</td>\n",
       "      <td>India</td>\n",
       "      <td>6394068</td>\n",
       "      <td>5352078</td>\n",
       "      <td>99773</td>\n",
       "    </tr>\n",
       "    <tr>\n",
       "      <td>20399</td>\n",
       "      <td>2020-10-02</td>\n",
       "      <td>India</td>\n",
       "      <td>6394068</td>\n",
       "      <td>5352078</td>\n",
       "      <td>99773</td>\n",
       "    </tr>\n",
       "  </tbody>\n",
       "</table>\n",
       "</div>"
      ],
      "text/plain": [
       "             Date Country  Confirmed  Recovered  Deaths\n",
       "20395  2020-09-28   India    6145291    5101397   96318\n",
       "20396  2020-09-29   India    6225763    5187825   97497\n",
       "20397  2020-09-30   India    6312584    5273201   98678\n",
       "20398  2020-10-01   India    6394068    5352078   99773\n",
       "20399  2020-10-02   India    6394068    5352078   99773"
      ]
     },
     "execution_count": 16,
     "metadata": {},
     "output_type": "execute_result"
    }
   ],
   "source": [
    "data_india.tail()"
   ]
  },
  {
   "cell_type": "code",
   "execution_count": 53,
   "metadata": {},
   "outputs": [
    {
     "data": {
      "image/png": "[encoded data removed]",
      "text/plain": [
       "<Figure size 432x288 with 1 Axes>"
      ]
     },
     "metadata": {
      "needs_background": "light"
     },
     "output_type": "display_data"
    }
   ],
   "source": [
    "plt.bar('Date', 'Confirmed', color='red', data=data_india)\n",
    "plt.xlabel(\"Date from 22nd-Jan to 2nd-Sep\")\n",
    "plt.ylabel(\"Total Confirmed Cases\")\n",
    "plt.title(\"India\")\n",
    "# plt.xticks(np.arange(20145, 20399, step=1000), rotation=45)\n",
    "plt.show()"
   ]
  },
  {
   "cell_type": "code",
   "execution_count": 21,
   "metadata": {},
   "outputs": [
    {
     "data": {
      "text/html": [
       "<div>\n",
       "<style scoped>\n",
       "    .dataframe tbody tr th:only-of-type {\n",
       "        vertical-align: middle;\n",
       "    }\n",
       "\n",
       "    .dataframe tbody tr th {\n",
       "        vertical-align: top;\n",
       "    }\n",
       "\n",
       "    .dataframe thead th {\n",
       "        text-align: right;\n",
       "    }\n",
       "</style>\n",
       "<table border=\"1\" class=\"dataframe\">\n",
       "  <thead>\n",
       "    <tr style=\"text-align: right;\">\n",
       "      <th></th>\n",
       "      <th>Date</th>\n",
       "      <th>Country</th>\n",
       "      <th>Confirmed</th>\n",
       "      <th>Recovered</th>\n",
       "      <th>Deaths</th>\n",
       "    </tr>\n",
       "  </thead>\n",
       "  <tbody>\n",
       "    <tr>\n",
       "      <td>21675</td>\n",
       "      <td>2020-01-22</td>\n",
       "      <td>Italy</td>\n",
       "      <td>0</td>\n",
       "      <td>0</td>\n",
       "      <td>0</td>\n",
       "    </tr>\n",
       "    <tr>\n",
       "      <td>21676</td>\n",
       "      <td>2020-01-23</td>\n",
       "      <td>Italy</td>\n",
       "      <td>0</td>\n",
       "      <td>0</td>\n",
       "      <td>0</td>\n",
       "    </tr>\n",
       "    <tr>\n",
       "      <td>21677</td>\n",
       "      <td>2020-01-24</td>\n",
       "      <td>Italy</td>\n",
       "      <td>0</td>\n",
       "      <td>0</td>\n",
       "      <td>0</td>\n",
       "    </tr>\n",
       "    <tr>\n",
       "      <td>21678</td>\n",
       "      <td>2020-01-25</td>\n",
       "      <td>Italy</td>\n",
       "      <td>0</td>\n",
       "      <td>0</td>\n",
       "      <td>0</td>\n",
       "    </tr>\n",
       "    <tr>\n",
       "      <td>21679</td>\n",
       "      <td>2020-01-26</td>\n",
       "      <td>Italy</td>\n",
       "      <td>0</td>\n",
       "      <td>0</td>\n",
       "      <td>0</td>\n",
       "    </tr>\n",
       "  </tbody>\n",
       "</table>\n",
       "</div>"
      ],
      "text/plain": [
       "             Date Country  Confirmed  Recovered  Deaths\n",
       "21675  2020-01-22   Italy          0          0       0\n",
       "21676  2020-01-23   Italy          0          0       0\n",
       "21677  2020-01-24   Italy          0          0       0\n",
       "21678  2020-01-25   Italy          0          0       0\n",
       "21679  2020-01-26   Italy          0          0       0"
      ]
     },
     "execution_count": 21,
     "metadata": {},
     "output_type": "execute_result"
    }
   ],
   "source": [
    "data_italy = data[data[\"Country\"] == \"Italy\"]\n",
    "data_italy.head()"
   ]
  },
  {
   "cell_type": "code",
   "execution_count": 22,
   "metadata": {},
   "outputs": [
    {
     "data": {
      "text/html": [
       "<div>\n",
       "<style scoped>\n",
       "    .dataframe tbody tr th:only-of-type {\n",
       "        vertical-align: middle;\n",
       "    }\n",
       "\n",
       "    .dataframe tbody tr th {\n",
       "        vertical-align: top;\n",
       "    }\n",
       "\n",
       "    .dataframe thead th {\n",
       "        text-align: right;\n",
       "    }\n",
       "</style>\n",
       "<table border=\"1\" class=\"dataframe\">\n",
       "  <thead>\n",
       "    <tr style=\"text-align: right;\">\n",
       "      <th></th>\n",
       "      <th>Date</th>\n",
       "      <th>Country</th>\n",
       "      <th>Confirmed</th>\n",
       "      <th>Recovered</th>\n",
       "      <th>Deaths</th>\n",
       "    </tr>\n",
       "  </thead>\n",
       "  <tbody>\n",
       "    <tr>\n",
       "      <td>21925</td>\n",
       "      <td>2020-09-28</td>\n",
       "      <td>Italy</td>\n",
       "      <td>311364</td>\n",
       "      <td>225190</td>\n",
       "      <td>35851</td>\n",
       "    </tr>\n",
       "    <tr>\n",
       "      <td>21926</td>\n",
       "      <td>2020-09-29</td>\n",
       "      <td>Italy</td>\n",
       "      <td>313011</td>\n",
       "      <td>226506</td>\n",
       "      <td>35875</td>\n",
       "    </tr>\n",
       "    <tr>\n",
       "      <td>21927</td>\n",
       "      <td>2020-09-30</td>\n",
       "      <td>Italy</td>\n",
       "      <td>314861</td>\n",
       "      <td>227704</td>\n",
       "      <td>35894</td>\n",
       "    </tr>\n",
       "    <tr>\n",
       "      <td>21928</td>\n",
       "      <td>2020-10-01</td>\n",
       "      <td>Italy</td>\n",
       "      <td>317409</td>\n",
       "      <td>228844</td>\n",
       "      <td>35918</td>\n",
       "    </tr>\n",
       "    <tr>\n",
       "      <td>21929</td>\n",
       "      <td>2020-10-02</td>\n",
       "      <td>Italy</td>\n",
       "      <td>319908</td>\n",
       "      <td>229970</td>\n",
       "      <td>35941</td>\n",
       "    </tr>\n",
       "  </tbody>\n",
       "</table>\n",
       "</div>"
      ],
      "text/plain": [
       "             Date Country  Confirmed  Recovered  Deaths\n",
       "21925  2020-09-28   Italy     311364     225190   35851\n",
       "21926  2020-09-29   Italy     313011     226506   35875\n",
       "21927  2020-09-30   Italy     314861     227704   35894\n",
       "21928  2020-10-01   Italy     317409     228844   35918\n",
       "21929  2020-10-02   Italy     319908     229970   35941"
      ]
     },
     "execution_count": 22,
     "metadata": {},
     "output_type": "execute_result"
    }
   ],
   "source": [
    "data_italy.tail()"
   ]
  },
  {
   "cell_type": "code",
   "execution_count": 54,
   "metadata": {},
   "outputs": [
    {
     "data": {
      "image/png": "[encoded data removed]",
      "text/plain": [
       "<Figure size 432x288 with 1 Axes>"
      ]
     },
     "metadata": {
      "needs_background": "light"
     },
     "output_type": "display_data"
    }
   ],
   "source": [
    "plt.bar('Date', 'Confirmed', color='blue', data=data_italy)\n",
    "plt.xlabel(\"Date from 22nd-Jan to 2nd-Sep\")\n",
    "plt.ylabel(\"Total Confirmed Cases\")\n",
    "plt.title(\"Italy\")\n",
    "# plt.xticks(np.arange(20145, 20399, step=1000), rotation=45)\n",
    "plt.show()"
   ]
  },
  {
   "cell_type": "code",
   "execution_count": 24,
   "metadata": {},
   "outputs": [
    {
     "data": {
      "text/html": [
       "<div>\n",
       "<style scoped>\n",
       "    .dataframe tbody tr th:only-of-type {\n",
       "        vertical-align: middle;\n",
       "    }\n",
       "\n",
       "    .dataframe tbody tr th {\n",
       "        vertical-align: top;\n",
       "    }\n",
       "\n",
       "    .dataframe thead th {\n",
       "        text-align: right;\n",
       "    }\n",
       "</style>\n",
       "<table border=\"1\" class=\"dataframe\">\n",
       "  <thead>\n",
       "    <tr style=\"text-align: right;\">\n",
       "      <th></th>\n",
       "      <th>Date</th>\n",
       "      <th>Country</th>\n",
       "      <th>Confirmed</th>\n",
       "      <th>Recovered</th>\n",
       "      <th>Deaths</th>\n",
       "    </tr>\n",
       "  </thead>\n",
       "  <tbody>\n",
       "    <tr>\n",
       "      <td>9180</td>\n",
       "      <td>2020-01-22</td>\n",
       "      <td>China</td>\n",
       "      <td>548</td>\n",
       "      <td>28</td>\n",
       "      <td>17</td>\n",
       "    </tr>\n",
       "    <tr>\n",
       "      <td>9181</td>\n",
       "      <td>2020-01-23</td>\n",
       "      <td>China</td>\n",
       "      <td>643</td>\n",
       "      <td>30</td>\n",
       "      <td>18</td>\n",
       "    </tr>\n",
       "    <tr>\n",
       "      <td>9182</td>\n",
       "      <td>2020-01-24</td>\n",
       "      <td>China</td>\n",
       "      <td>920</td>\n",
       "      <td>36</td>\n",
       "      <td>26</td>\n",
       "    </tr>\n",
       "    <tr>\n",
       "      <td>9183</td>\n",
       "      <td>2020-01-25</td>\n",
       "      <td>China</td>\n",
       "      <td>1406</td>\n",
       "      <td>39</td>\n",
       "      <td>42</td>\n",
       "    </tr>\n",
       "    <tr>\n",
       "      <td>9184</td>\n",
       "      <td>2020-01-26</td>\n",
       "      <td>China</td>\n",
       "      <td>2075</td>\n",
       "      <td>49</td>\n",
       "      <td>56</td>\n",
       "    </tr>\n",
       "  </tbody>\n",
       "</table>\n",
       "</div>"
      ],
      "text/plain": [
       "            Date Country  Confirmed  Recovered  Deaths\n",
       "9180  2020-01-22   China        548         28      17\n",
       "9181  2020-01-23   China        643         30      18\n",
       "9182  2020-01-24   China        920         36      26\n",
       "9183  2020-01-25   China       1406         39      42\n",
       "9184  2020-01-26   China       2075         49      56"
      ]
     },
     "execution_count": 24,
     "metadata": {},
     "output_type": "execute_result"
    }
   ],
   "source": [
    "data_china = data[data[\"Country\"] == \"China\"]\n",
    "data_china.head()"
   ]
  },
  {
   "cell_type": "code",
   "execution_count": 25,
   "metadata": {},
   "outputs": [
    {
     "data": {
      "text/html": [
       "<div>\n",
       "<style scoped>\n",
       "    .dataframe tbody tr th:only-of-type {\n",
       "        vertical-align: middle;\n",
       "    }\n",
       "\n",
       "    .dataframe tbody tr th {\n",
       "        vertical-align: top;\n",
       "    }\n",
       "\n",
       "    .dataframe thead th {\n",
       "        text-align: right;\n",
       "    }\n",
       "</style>\n",
       "<table border=\"1\" class=\"dataframe\">\n",
       "  <thead>\n",
       "    <tr style=\"text-align: right;\">\n",
       "      <th></th>\n",
       "      <th>Date</th>\n",
       "      <th>Country</th>\n",
       "      <th>Confirmed</th>\n",
       "      <th>Recovered</th>\n",
       "      <th>Deaths</th>\n",
       "    </tr>\n",
       "  </thead>\n",
       "  <tbody>\n",
       "    <tr>\n",
       "      <td>9430</td>\n",
       "      <td>2020-09-28</td>\n",
       "      <td>China</td>\n",
       "      <td>90505</td>\n",
       "      <td>85398</td>\n",
       "      <td>4739</td>\n",
       "    </tr>\n",
       "    <tr>\n",
       "      <td>9431</td>\n",
       "      <td>2020-09-29</td>\n",
       "      <td>China</td>\n",
       "      <td>90528</td>\n",
       "      <td>85423</td>\n",
       "      <td>4739</td>\n",
       "    </tr>\n",
       "    <tr>\n",
       "      <td>9432</td>\n",
       "      <td>2020-09-30</td>\n",
       "      <td>China</td>\n",
       "      <td>90545</td>\n",
       "      <td>85460</td>\n",
       "      <td>4739</td>\n",
       "    </tr>\n",
       "    <tr>\n",
       "      <td>9433</td>\n",
       "      <td>2020-10-01</td>\n",
       "      <td>China</td>\n",
       "      <td>90567</td>\n",
       "      <td>85479</td>\n",
       "      <td>4739</td>\n",
       "    </tr>\n",
       "    <tr>\n",
       "      <td>9434</td>\n",
       "      <td>2020-10-02</td>\n",
       "      <td>China</td>\n",
       "      <td>90584</td>\n",
       "      <td>85494</td>\n",
       "      <td>4739</td>\n",
       "    </tr>\n",
       "  </tbody>\n",
       "</table>\n",
       "</div>"
      ],
      "text/plain": [
       "            Date Country  Confirmed  Recovered  Deaths\n",
       "9430  2020-09-28   China      90505      85398    4739\n",
       "9431  2020-09-29   China      90528      85423    4739\n",
       "9432  2020-09-30   China      90545      85460    4739\n",
       "9433  2020-10-01   China      90567      85479    4739\n",
       "9434  2020-10-02   China      90584      85494    4739"
      ]
     },
     "execution_count": 25,
     "metadata": {},
     "output_type": "execute_result"
    }
   ],
   "source": [
    "data_china.tail()"
   ]
  },
  {
   "cell_type": "code",
   "execution_count": 55,
   "metadata": {},
   "outputs": [
    {
     "data": {
      "image/png": "[encoded data removed]",
      "text/plain": [
       "<Figure size 432x288 with 1 Axes>"
      ]
     },
     "metadata": {
      "needs_background": "light"
     },
     "output_type": "display_data"
    }
   ],
   "source": [
    "plt.bar('Date', 'Confirmed', color='orange', data=data_china)\n",
    "plt.xlabel(\"Date from 22nd-Jan to 2nd-Sep\")\n",
    "plt.ylabel(\"Total Confirmed Cases\")\n",
    "plt.title(\"China\")\n",
    "# plt.xticks(np.arange(20145, 20399, step=1000), rotation=45)\n",
    "plt.show()"
   ]
  },
  {
   "cell_type": "code",
   "execution_count": 27,
   "metadata": {},
   "outputs": [
    {
     "data": {
      "text/html": [
       "<div>\n",
       "<style scoped>\n",
       "    .dataframe tbody tr th:only-of-type {\n",
       "        vertical-align: middle;\n",
       "    }\n",
       "\n",
       "    .dataframe tbody tr th {\n",
       "        vertical-align: top;\n",
       "    }\n",
       "\n",
       "    .dataframe thead th {\n",
       "        text-align: right;\n",
       "    }\n",
       "</style>\n",
       "<table border=\"1\" class=\"dataframe\">\n",
       "  <thead>\n",
       "    <tr style=\"text-align: right;\">\n",
       "      <th></th>\n",
       "      <th>Date</th>\n",
       "      <th>Country</th>\n",
       "      <th>Confirmed</th>\n",
       "      <th>Recovered</th>\n",
       "      <th>Deaths</th>\n",
       "    </tr>\n",
       "  </thead>\n",
       "  <tbody>\n",
       "    <tr>\n",
       "      <td>44370</td>\n",
       "      <td>2020-01-22</td>\n",
       "      <td>US</td>\n",
       "      <td>1</td>\n",
       "      <td>0</td>\n",
       "      <td>0</td>\n",
       "    </tr>\n",
       "    <tr>\n",
       "      <td>44371</td>\n",
       "      <td>2020-01-23</td>\n",
       "      <td>US</td>\n",
       "      <td>1</td>\n",
       "      <td>0</td>\n",
       "      <td>0</td>\n",
       "    </tr>\n",
       "    <tr>\n",
       "      <td>44372</td>\n",
       "      <td>2020-01-24</td>\n",
       "      <td>US</td>\n",
       "      <td>2</td>\n",
       "      <td>0</td>\n",
       "      <td>0</td>\n",
       "    </tr>\n",
       "    <tr>\n",
       "      <td>44373</td>\n",
       "      <td>2020-01-25</td>\n",
       "      <td>US</td>\n",
       "      <td>2</td>\n",
       "      <td>0</td>\n",
       "      <td>0</td>\n",
       "    </tr>\n",
       "    <tr>\n",
       "      <td>44374</td>\n",
       "      <td>2020-01-26</td>\n",
       "      <td>US</td>\n",
       "      <td>5</td>\n",
       "      <td>0</td>\n",
       "      <td>0</td>\n",
       "    </tr>\n",
       "  </tbody>\n",
       "</table>\n",
       "</div>"
      ],
      "text/plain": [
       "             Date Country  Confirmed  Recovered  Deaths\n",
       "44370  2020-01-22      US          1          0       0\n",
       "44371  2020-01-23      US          1          0       0\n",
       "44372  2020-01-24      US          2          0       0\n",
       "44373  2020-01-25      US          2          0       0\n",
       "44374  2020-01-26      US          5          0       0"
      ]
     },
     "execution_count": 27,
     "metadata": {},
     "output_type": "execute_result"
    }
   ],
   "source": [
    "data_us = data[data[\"Country\"] == \"US\"]\n",
    "data_us.head()"
   ]
  },
  {
   "cell_type": "code",
   "execution_count": 28,
   "metadata": {},
   "outputs": [
    {
     "data": {
      "text/html": [
       "<div>\n",
       "<style scoped>\n",
       "    .dataframe tbody tr th:only-of-type {\n",
       "        vertical-align: middle;\n",
       "    }\n",
       "\n",
       "    .dataframe tbody tr th {\n",
       "        vertical-align: top;\n",
       "    }\n",
       "\n",
       "    .dataframe thead th {\n",
       "        text-align: right;\n",
       "    }\n",
       "</style>\n",
       "<table border=\"1\" class=\"dataframe\">\n",
       "  <thead>\n",
       "    <tr style=\"text-align: right;\">\n",
       "      <th></th>\n",
       "      <th>Date</th>\n",
       "      <th>Country</th>\n",
       "      <th>Confirmed</th>\n",
       "      <th>Recovered</th>\n",
       "      <th>Deaths</th>\n",
       "    </tr>\n",
       "  </thead>\n",
       "  <tbody>\n",
       "    <tr>\n",
       "      <td>44620</td>\n",
       "      <td>2020-09-28</td>\n",
       "      <td>US</td>\n",
       "      <td>7149537</td>\n",
       "      <td>2794608</td>\n",
       "      <td>205072</td>\n",
       "    </tr>\n",
       "    <tr>\n",
       "      <td>44621</td>\n",
       "      <td>2020-09-29</td>\n",
       "      <td>US</td>\n",
       "      <td>7191637</td>\n",
       "      <td>2813305</td>\n",
       "      <td>205986</td>\n",
       "    </tr>\n",
       "    <tr>\n",
       "      <td>44622</td>\n",
       "      <td>2020-09-30</td>\n",
       "      <td>US</td>\n",
       "      <td>7233042</td>\n",
       "      <td>2840688</td>\n",
       "      <td>206932</td>\n",
       "    </tr>\n",
       "    <tr>\n",
       "      <td>44623</td>\n",
       "      <td>2020-10-01</td>\n",
       "      <td>US</td>\n",
       "      <td>7277759</td>\n",
       "      <td>2860650</td>\n",
       "      <td>207789</td>\n",
       "    </tr>\n",
       "    <tr>\n",
       "      <td>44624</td>\n",
       "      <td>2020-10-02</td>\n",
       "      <td>US</td>\n",
       "      <td>7332200</td>\n",
       "      <td>2873369</td>\n",
       "      <td>208695</td>\n",
       "    </tr>\n",
       "  </tbody>\n",
       "</table>\n",
       "</div>"
      ],
      "text/plain": [
       "             Date Country  Confirmed  Recovered  Deaths\n",
       "44620  2020-09-28      US    7149537    2794608  205072\n",
       "44621  2020-09-29      US    7191637    2813305  205986\n",
       "44622  2020-09-30      US    7233042    2840688  206932\n",
       "44623  2020-10-01      US    7277759    2860650  207789\n",
       "44624  2020-10-02      US    7332200    2873369  208695"
      ]
     },
     "execution_count": 28,
     "metadata": {},
     "output_type": "execute_result"
    }
   ],
   "source": [
    "data_us.tail()"
   ]
  },
  {
   "cell_type": "code",
   "execution_count": 56,
   "metadata": {},
   "outputs": [
    {
     "data": {
      "image/png": "[encoded data removed]",
      "text/plain": [
       "<Figure size 432x288 with 1 Axes>"
      ]
     },
     "metadata": {
      "needs_background": "light"
     },
     "output_type": "display_data"
    }
   ],
   "source": [
    "plt.bar('Date', 'Confirmed', color='purple', data=data_us)\n",
    "plt.xlabel(\"Date from 22nd-Jan to 2nd-Sep\")\n",
    "plt.ylabel(\"Total Confirmed Cases\")\n",
    "plt.title(\"US\")\n",
    "# plt.xticks(np.arange(20145, 20399, step=1000), rotation=45)\n",
    "plt.show()"
   ]
  },
  {
   "cell_type": "code",
   "execution_count": 33,
   "metadata": {},
   "outputs": [
    {
     "data": {
      "text/html": [
       "<div>\n",
       "<style scoped>\n",
       "    .dataframe tbody tr th:only-of-type {\n",
       "        vertical-align: middle;\n",
       "    }\n",
       "\n",
       "    .dataframe tbody tr th {\n",
       "        vertical-align: top;\n",
       "    }\n",
       "\n",
       "    .dataframe thead th {\n",
       "        text-align: right;\n",
       "    }\n",
       "</style>\n",
       "<table border=\"1\" class=\"dataframe\">\n",
       "  <thead>\n",
       "    <tr style=\"text-align: right;\">\n",
       "      <th></th>\n",
       "      <th>Date</th>\n",
       "      <th>Country</th>\n",
       "      <th>Confirmed</th>\n",
       "      <th>Recovered</th>\n",
       "      <th>Deaths</th>\n",
       "    </tr>\n",
       "  </thead>\n",
       "  <tbody>\n",
       "    <tr>\n",
       "      <td>40290</td>\n",
       "      <td>2020-01-22</td>\n",
       "      <td>Spain</td>\n",
       "      <td>0</td>\n",
       "      <td>0</td>\n",
       "      <td>0</td>\n",
       "    </tr>\n",
       "    <tr>\n",
       "      <td>40291</td>\n",
       "      <td>2020-01-23</td>\n",
       "      <td>Spain</td>\n",
       "      <td>0</td>\n",
       "      <td>0</td>\n",
       "      <td>0</td>\n",
       "    </tr>\n",
       "    <tr>\n",
       "      <td>40292</td>\n",
       "      <td>2020-01-24</td>\n",
       "      <td>Spain</td>\n",
       "      <td>0</td>\n",
       "      <td>0</td>\n",
       "      <td>0</td>\n",
       "    </tr>\n",
       "    <tr>\n",
       "      <td>40293</td>\n",
       "      <td>2020-01-25</td>\n",
       "      <td>Spain</td>\n",
       "      <td>0</td>\n",
       "      <td>0</td>\n",
       "      <td>0</td>\n",
       "    </tr>\n",
       "    <tr>\n",
       "      <td>40294</td>\n",
       "      <td>2020-01-26</td>\n",
       "      <td>Spain</td>\n",
       "      <td>0</td>\n",
       "      <td>0</td>\n",
       "      <td>0</td>\n",
       "    </tr>\n",
       "  </tbody>\n",
       "</table>\n",
       "</div>"
      ],
      "text/plain": [
       "             Date Country  Confirmed  Recovered  Deaths\n",
       "40290  2020-01-22   Spain          0          0       0\n",
       "40291  2020-01-23   Spain          0          0       0\n",
       "40292  2020-01-24   Spain          0          0       0\n",
       "40293  2020-01-25   Spain          0          0       0\n",
       "40294  2020-01-26   Spain          0          0       0"
      ]
     },
     "execution_count": 33,
     "metadata": {},
     "output_type": "execute_result"
    }
   ],
   "source": [
    "data_spain = data[data[\"Country\"] == \"Spain\"]\n",
    "data_spain.head()"
   ]
  },
  {
   "cell_type": "code",
   "execution_count": 34,
   "metadata": {},
   "outputs": [
    {
     "data": {
      "text/html": [
       "<div>\n",
       "<style scoped>\n",
       "    .dataframe tbody tr th:only-of-type {\n",
       "        vertical-align: middle;\n",
       "    }\n",
       "\n",
       "    .dataframe tbody tr th {\n",
       "        vertical-align: top;\n",
       "    }\n",
       "\n",
       "    .dataframe thead th {\n",
       "        text-align: right;\n",
       "    }\n",
       "</style>\n",
       "<table border=\"1\" class=\"dataframe\">\n",
       "  <thead>\n",
       "    <tr style=\"text-align: right;\">\n",
       "      <th></th>\n",
       "      <th>Date</th>\n",
       "      <th>Country</th>\n",
       "      <th>Confirmed</th>\n",
       "      <th>Recovered</th>\n",
       "      <th>Deaths</th>\n",
       "    </tr>\n",
       "  </thead>\n",
       "  <tbody>\n",
       "    <tr>\n",
       "      <td>40540</td>\n",
       "      <td>2020-09-28</td>\n",
       "      <td>Spain</td>\n",
       "      <td>748266</td>\n",
       "      <td>150376</td>\n",
       "      <td>31411</td>\n",
       "    </tr>\n",
       "    <tr>\n",
       "      <td>40541</td>\n",
       "      <td>2020-09-29</td>\n",
       "      <td>Spain</td>\n",
       "      <td>748266</td>\n",
       "      <td>150376</td>\n",
       "      <td>31411</td>\n",
       "    </tr>\n",
       "    <tr>\n",
       "      <td>40542</td>\n",
       "      <td>2020-09-30</td>\n",
       "      <td>Spain</td>\n",
       "      <td>769188</td>\n",
       "      <td>150376</td>\n",
       "      <td>31791</td>\n",
       "    </tr>\n",
       "    <tr>\n",
       "      <td>40543</td>\n",
       "      <td>2020-10-01</td>\n",
       "      <td>Spain</td>\n",
       "      <td>778607</td>\n",
       "      <td>150376</td>\n",
       "      <td>31973</td>\n",
       "    </tr>\n",
       "    <tr>\n",
       "      <td>40544</td>\n",
       "      <td>2020-10-02</td>\n",
       "      <td>Spain</td>\n",
       "      <td>789932</td>\n",
       "      <td>150376</td>\n",
       "      <td>32086</td>\n",
       "    </tr>\n",
       "  </tbody>\n",
       "</table>\n",
       "</div>"
      ],
      "text/plain": [
       "             Date Country  Confirmed  Recovered  Deaths\n",
       "40540  2020-09-28   Spain     748266     150376   31411\n",
       "40541  2020-09-29   Spain     748266     150376   31411\n",
       "40542  2020-09-30   Spain     769188     150376   31791\n",
       "40543  2020-10-01   Spain     778607     150376   31973\n",
       "40544  2020-10-02   Spain     789932     150376   32086"
      ]
     },
     "execution_count": 34,
     "metadata": {},
     "output_type": "execute_result"
    }
   ],
   "source": [
    "data_spain.tail()"
   ]
  },
  {
   "cell_type": "code",
   "execution_count": 57,
   "metadata": {},
   "outputs": [
    {
     "data": {
      "image/png": "[encoded data removed]",
      "text/plain": [
       "<Figure size 432x288 with 1 Axes>"
      ]
     },
     "metadata": {
      "needs_background": "light"
     },
     "output_type": "display_data"
    }
   ],
   "source": [
    "plt.bar('Date', 'Confirmed', color='green', data=data_spain)\n",
    "plt.xlabel(\"Date from 22nd-Jan to 2nd-Sep\")\n",
    "plt.ylabel(\"Total Confirmed Cases\")\n",
    "plt.title(\"Spain\")\n",
    "# plt.xticks(np.arange(20145, 20399, step=1000), rotation=45)\n",
    "plt.show()"
   ]
  },
  {
   "cell_type": "code",
   "execution_count": 38,
   "metadata": {},
   "outputs": [
    {
     "data": {
      "text/html": [
       "<div>\n",
       "<style scoped>\n",
       "    .dataframe tbody tr th:only-of-type {\n",
       "        vertical-align: middle;\n",
       "    }\n",
       "\n",
       "    .dataframe tbody tr th {\n",
       "        vertical-align: top;\n",
       "    }\n",
       "\n",
       "    .dataframe thead th {\n",
       "        text-align: right;\n",
       "    }\n",
       "</style>\n",
       "<table border=\"1\" class=\"dataframe\">\n",
       "  <thead>\n",
       "    <tr style=\"text-align: right;\">\n",
       "      <th></th>\n",
       "      <th>Date</th>\n",
       "      <th>Country</th>\n",
       "      <th>Confirmed</th>\n",
       "      <th>Recovered</th>\n",
       "      <th>Deaths</th>\n",
       "    </tr>\n",
       "  </thead>\n",
       "  <tbody>\n",
       "    <tr>\n",
       "      <td>9180</td>\n",
       "      <td>2020-01-22</td>\n",
       "      <td>China</td>\n",
       "      <td>548</td>\n",
       "      <td>28</td>\n",
       "      <td>17</td>\n",
       "    </tr>\n",
       "    <tr>\n",
       "      <td>9181</td>\n",
       "      <td>2020-01-23</td>\n",
       "      <td>China</td>\n",
       "      <td>643</td>\n",
       "      <td>30</td>\n",
       "      <td>18</td>\n",
       "    </tr>\n",
       "    <tr>\n",
       "      <td>9182</td>\n",
       "      <td>2020-01-24</td>\n",
       "      <td>China</td>\n",
       "      <td>920</td>\n",
       "      <td>36</td>\n",
       "      <td>26</td>\n",
       "    </tr>\n",
       "    <tr>\n",
       "      <td>9183</td>\n",
       "      <td>2020-01-25</td>\n",
       "      <td>China</td>\n",
       "      <td>1406</td>\n",
       "      <td>39</td>\n",
       "      <td>42</td>\n",
       "    </tr>\n",
       "    <tr>\n",
       "      <td>9184</td>\n",
       "      <td>2020-01-26</td>\n",
       "      <td>China</td>\n",
       "      <td>2075</td>\n",
       "      <td>49</td>\n",
       "      <td>56</td>\n",
       "    </tr>\n",
       "    <tr>\n",
       "      <td>...</td>\n",
       "      <td>...</td>\n",
       "      <td>...</td>\n",
       "      <td>...</td>\n",
       "      <td>...</td>\n",
       "      <td>...</td>\n",
       "    </tr>\n",
       "    <tr>\n",
       "      <td>44620</td>\n",
       "      <td>2020-09-28</td>\n",
       "      <td>US</td>\n",
       "      <td>7149537</td>\n",
       "      <td>2794608</td>\n",
       "      <td>205072</td>\n",
       "    </tr>\n",
       "    <tr>\n",
       "      <td>44621</td>\n",
       "      <td>2020-09-29</td>\n",
       "      <td>US</td>\n",
       "      <td>7191637</td>\n",
       "      <td>2813305</td>\n",
       "      <td>205986</td>\n",
       "    </tr>\n",
       "    <tr>\n",
       "      <td>44622</td>\n",
       "      <td>2020-09-30</td>\n",
       "      <td>US</td>\n",
       "      <td>7233042</td>\n",
       "      <td>2840688</td>\n",
       "      <td>206932</td>\n",
       "    </tr>\n",
       "    <tr>\n",
       "      <td>44623</td>\n",
       "      <td>2020-10-01</td>\n",
       "      <td>US</td>\n",
       "      <td>7277759</td>\n",
       "      <td>2860650</td>\n",
       "      <td>207789</td>\n",
       "    </tr>\n",
       "    <tr>\n",
       "      <td>44624</td>\n",
       "      <td>2020-10-02</td>\n",
       "      <td>US</td>\n",
       "      <td>7332200</td>\n",
       "      <td>2873369</td>\n",
       "      <td>208695</td>\n",
       "    </tr>\n",
       "  </tbody>\n",
       "</table>\n",
       "<p>765 rows × 5 columns</p>\n",
       "</div>"
      ],
      "text/plain": [
       "             Date Country  Confirmed  Recovered  Deaths\n",
       "9180   2020-01-22   China        548         28      17\n",
       "9181   2020-01-23   China        643         30      18\n",
       "9182   2020-01-24   China        920         36      26\n",
       "9183   2020-01-25   China       1406         39      42\n",
       "9184   2020-01-26   China       2075         49      56\n",
       "...           ...     ...        ...        ...     ...\n",
       "44620  2020-09-28      US    7149537    2794608  205072\n",
       "44621  2020-09-29      US    7191637    2813305  205986\n",
       "44622  2020-09-30      US    7233042    2840688  206932\n",
       "44623  2020-10-01      US    7277759    2860650  207789\n",
       "44624  2020-10-02      US    7332200    2873369  208695\n",
       "\n",
       "[765 rows x 5 columns]"
      ]
     },
     "execution_count": 38,
     "metadata": {},
     "output_type": "execute_result"
    }
   ],
   "source": [
    "data_five = data.query('Country in [\"India\", \"China\", \"US\"]')\n",
    "data_five"
   ]
  },
  {
   "cell_type": "code",
   "execution_count": 58,
   "metadata": {},
   "outputs": [
    {
     "data": {
      "image/png": "[encoded data removed]",
      "text/plain": [
       "<Figure size 432x288 with 1 Axes>"
      ]
     },
     "metadata": {
      "needs_background": "light"
     },
     "output_type": "display_data"
    }
   ],
   "source": [
    "sb.stripplot(x='Date', y='Confirmed', hue='Country', data=data_five)\n",
    "plt.show()"
   ]
  },
  {
   "cell_type": "code",
   "execution_count": 42,
   "metadata": {},
   "outputs": [
    {
     "data": {
      "image/png": "[encoded data removed]",
      "text/plain": [
       "<Figure size 1080x864 with 1 Axes>"
      ]
     },
     "metadata": {
      "needs_background": "light"
     },
     "output_type": "display_data"
    },
    {
     "data": {
      "image/png": "[encoded data removed]",
      "text/plain": [
       "<Figure size 604.625x540 with 12 Axes>"
      ]
     },
     "metadata": {
      "needs_background": "light"
     },
     "output_type": "display_data"
    }
   ],
   "source": [
    "fig, ax = plt.subplots(figsize=(15,12))\n",
    "sb.pairplot(data_five, hue='Country', diag_kind=\"hist\", kind=\"scatter\", palette=\"husl\")\n",
    "plt.show()"
   ]
  },
  {
   "cell_type": "code",
   "execution_count": 43,
   "metadata": {},
   "outputs": [
    {
     "data": {
      "text/plain": [
       "array(['2020-01-22', '2020-01-23', '2020-01-24', '2020-01-25',\n",
       "       '2020-01-26', '2020-01-27', '2020-01-28', '2020-01-29',\n",
       "       '2020-01-30', '2020-01-31', '2020-02-01', '2020-02-02',\n",
       "       '2020-02-03', '2020-02-04', '2020-02-05', '2020-02-06',\n",
       "       '2020-02-07', '2020-02-08', '2020-02-09', '2020-02-10',\n",
       "       '2020-02-11', '2020-02-12', '2020-02-13', '2020-02-14',\n",
       "       '2020-02-15', '2020-02-16', '2020-02-17', '2020-02-18',\n",
       "       '2020-02-19', '2020-02-20', '2020-02-21', '2020-02-22',\n",
       "       '2020-02-23', '2020-02-24', '2020-02-25', '2020-02-26',\n",
       "       '2020-02-27', '2020-02-28', '2020-02-29', '2020-03-01',\n",
       "       '2020-03-02', '2020-03-03', '2020-03-04', '2020-03-05',\n",
       "       '2020-03-06', '2020-03-07', '2020-03-08', '2020-03-09',\n",
       "       '2020-03-10', '2020-03-11', '2020-03-12', '2020-03-13',\n",
       "       '2020-03-14', '2020-03-15', '2020-03-16', '2020-03-17',\n",
       "       '2020-03-18', '2020-03-19', '2020-03-20', '2020-03-21',\n",
       "       '2020-03-22', '2020-03-23', '2020-03-24', '2020-03-25',\n",
       "       '2020-03-26', '2020-03-27', '2020-03-28', '2020-03-29',\n",
       "       '2020-03-30', '2020-03-31', '2020-04-01', '2020-04-02',\n",
       "       '2020-04-03', '2020-04-04', '2020-04-05', '2020-04-06',\n",
       "       '2020-04-07', '2020-04-08', '2020-04-09', '2020-04-10',\n",
       "       '2020-04-11', '2020-04-12', '2020-04-13', '2020-04-14',\n",
       "       '2020-04-15', '2020-04-16', '2020-04-17', '2020-04-18',\n",
       "       '2020-04-19', '2020-04-20', '2020-04-21', '2020-04-22',\n",
       "       '2020-04-23', '2020-04-24', '2020-04-25', '2020-04-26',\n",
       "       '2020-04-27', '2020-04-28', '2020-04-29', '2020-04-30',\n",
       "       '2020-05-01', '2020-05-02', '2020-05-03', '2020-05-04',\n",
       "       '2020-05-05', '2020-05-06', '2020-05-07', '2020-05-08',\n",
       "       '2020-05-09', '2020-05-10', '2020-05-11', '2020-05-12',\n",
       "       '2020-05-13', '2020-05-14', '2020-05-15', '2020-05-16',\n",
       "       '2020-05-17', '2020-05-18', '2020-05-19', '2020-05-20',\n",
       "       '2020-05-21', '2020-05-22', '2020-05-23', '2020-05-24',\n",
       "       '2020-05-25', '2020-05-26', '2020-05-27', '2020-05-28',\n",
       "       '2020-05-29', '2020-05-30', '2020-05-31', '2020-06-01',\n",
       "       '2020-06-02', '2020-06-03', '2020-06-04', '2020-06-05',\n",
       "       '2020-06-06', '2020-06-07', '2020-06-08', '2020-06-09',\n",
       "       '2020-06-10', '2020-06-11', '2020-06-12', '2020-06-13',\n",
       "       '2020-06-14', '2020-06-15', '2020-06-16', '2020-06-17',\n",
       "       '2020-06-18', '2020-06-19', '2020-06-20', '2020-06-21',\n",
       "       '2020-06-22', '2020-06-23', '2020-06-24', '2020-06-25',\n",
       "       '2020-06-26', '2020-06-27', '2020-06-28', '2020-06-29',\n",
       "       '2020-06-30', '2020-07-01', '2020-07-02', '2020-07-03',\n",
       "       '2020-07-04', '2020-07-05', '2020-07-06', '2020-07-07',\n",
       "       '2020-07-08', '2020-07-09', '2020-07-10', '2020-07-11',\n",
       "       '2020-07-12', '2020-07-13', '2020-07-14', '2020-07-15',\n",
       "       '2020-07-16', '2020-07-17', '2020-07-18', '2020-07-19',\n",
       "       '2020-07-20', '2020-07-21', '2020-07-22', '2020-07-23',\n",
       "       '2020-07-24', '2020-07-25', '2020-07-26', '2020-07-27',\n",
       "       '2020-07-28', '2020-07-29', '2020-07-30', '2020-07-31',\n",
       "       '2020-08-01', '2020-08-02', '2020-08-03', '2020-08-04',\n",
       "       '2020-08-05', '2020-08-06', '2020-08-07', '2020-08-08',\n",
       "       '2020-08-09', '2020-08-10', '2020-08-11', '2020-08-12',\n",
       "       '2020-08-13', '2020-08-14', '2020-08-15', '2020-08-16',\n",
       "       '2020-08-17', '2020-08-18', '2020-08-19', '2020-08-20',\n",
       "       '2020-08-21', '2020-08-22', '2020-08-23', '2020-08-24',\n",
       "       '2020-08-25', '2020-08-26', '2020-08-27', '2020-08-28',\n",
       "       '2020-08-29', '2020-08-30', '2020-08-31', '2020-09-01',\n",
       "       '2020-09-02', '2020-09-03', '2020-09-04', '2020-09-05',\n",
       "       '2020-09-06', '2020-09-07', '2020-09-08', '2020-09-09',\n",
       "       '2020-09-10', '2020-09-11', '2020-09-12', '2020-09-13',\n",
       "       '2020-09-14', '2020-09-15', '2020-09-16', '2020-09-17',\n",
       "       '2020-09-18', '2020-09-19', '2020-09-20', '2020-09-21',\n",
       "       '2020-09-22', '2020-09-23', '2020-09-24', '2020-09-25',\n",
       "       '2020-09-26', '2020-09-27', '2020-09-28', '2020-09-29',\n",
       "       '2020-09-30', '2020-10-01', '2020-10-02'], dtype=object)"
      ]
     },
     "execution_count": 43,
     "metadata": {},
     "output_type": "execute_result"
    }
   ],
   "source": [
    "list_dates = data['Date'].unique()\n",
    "list_dates"
   ]
  },
  {
   "cell_type": "code",
   "execution_count": 1,
   "metadata": {},
   "outputs": [
    {
     "ename": "NameError",
     "evalue": "name 'data' is not defined",
     "output_type": "error",
     "traceback": [
      "\u001b[0;31m---------------------------------------------------------------------------\u001b[0m",
      "\u001b[0;31mNameError\u001b[0m                                 Traceback (most recent call last)",
      "\u001b[0;32m<ipython-input-1-f0e827f4f77c>\u001b[0m in \u001b[0;36m<module>\u001b[0;34m\u001b[0m\n\u001b[0;32m----> 1\u001b[0;31m \u001b[0mlist_dates\u001b[0m \u001b[0;34m=\u001b[0m \u001b[0mdata\u001b[0m\u001b[0;34m[\u001b[0m\u001b[0;34m'Date'\u001b[0m\u001b[0;34m]\u001b[0m\u001b[0;34m.\u001b[0m\u001b[0munique\u001b[0m\u001b[0;34m(\u001b[0m\u001b[0;34m)\u001b[0m\u001b[0;34m\u001b[0m\u001b[0;34m\u001b[0m\u001b[0m\n\u001b[0m\u001b[1;32m      2\u001b[0m \u001b[0mfig\u001b[0m\u001b[0;34m,\u001b[0m\u001b[0max\u001b[0m \u001b[0;34m=\u001b[0m \u001b[0mplt\u001b[0m\u001b[0;34m.\u001b[0m\u001b[0msubplots\u001b[0m\u001b[0;34m(\u001b[0m\u001b[0mfigsize\u001b[0m\u001b[0;34m=\u001b[0m\u001b[0;34m(\u001b[0m\u001b[0;36m10\u001b[0m\u001b[0;34m,\u001b[0m\u001b[0;36m4\u001b[0m\u001b[0;34m)\u001b[0m\u001b[0;34m)\u001b[0m\u001b[0;34m\u001b[0m\u001b[0;34m\u001b[0m\u001b[0m\n\u001b[1;32m      3\u001b[0m \u001b[0mlist_countries\u001b[0m \u001b[0;34m=\u001b[0m \u001b[0;34m[\u001b[0m\u001b[0;34m'India'\u001b[0m\u001b[0;34m,\u001b[0m \u001b[0;34m'China'\u001b[0m\u001b[0;34m,\u001b[0m \u001b[0;34m'US'\u001b[0m\u001b[0;34m,\u001b[0m \u001b[0;34m'Italy'\u001b[0m\u001b[0;34m,\u001b[0m \u001b[0;34m'Spain'\u001b[0m\u001b[0;34m,\u001b[0m\u001b[0;34m'Brazil'\u001b[0m\u001b[0;34m,\u001b[0m \u001b[0;34m'Russia'\u001b[0m\u001b[0;34m]\u001b[0m\u001b[0;34m\u001b[0m\u001b[0;34m\u001b[0m\u001b[0m\n\u001b[1;32m      4\u001b[0m \u001b[0mlist_colors\u001b[0m \u001b[0;34m=\u001b[0m \u001b[0;34m[\u001b[0m\u001b[0;34m'red'\u001b[0m\u001b[0;34m,\u001b[0m \u001b[0;34m'orange'\u001b[0m\u001b[0;34m,\u001b[0m \u001b[0;34m'purple'\u001b[0m\u001b[0;34m,\u001b[0m \u001b[0;34m'blue'\u001b[0m\u001b[0;34m,\u001b[0m \u001b[0;34m'green'\u001b[0m\u001b[0;34m,\u001b[0m\u001b[0;34m'brown'\u001b[0m\u001b[0;34m,\u001b[0m \u001b[0;34m'pink'\u001b[0m \u001b[0;34m]\u001b[0m\u001b[0;34m\u001b[0m\u001b[0;34m\u001b[0m\u001b[0m\n\u001b[1;32m      5\u001b[0m \u001b[0;34m\u001b[0m\u001b[0m\n",
      "\u001b[0;31mNameError\u001b[0m: name 'data' is not defined"
     ]
    }
   ],
   "source": [
    "list_dates = data['Date'].unique()\n",
    "fig,ax = plt.subplots(figsize=(10,4))\n",
    "list_countries = ['India', 'China', 'US', 'Italy', 'Spain','Brazil', 'Russia']\n",
    "list_colors = ['red', 'orange', 'purple', 'blue', 'green','brown', 'pink' ]\n",
    "\n",
    "def plot_bar(some_date):\n",
    "    d1 = data[data['Date'].eq(some_date)]\n",
    "    ax.clear()\n",
    "    d2 = d1.sort_values(by='Confirmed', ascending=True)\n",
    "    d3 = d2[d2['Country'].isin(list_countries)]\n",
    "    sleep(0.2)\n",
    "    return ax.barh(d3['Country'], d3['Confirmed'], color=list_colors)\n",
    "\n",
    "my_anim = animation.FuncAnimation(fig=fig, func=plot_bar, frames=list_dates, blit=True, interval=10)\n",
    "plt.show()"
   ]
  },
  {
   "cell_type": "code",
   "execution_count": 71,
   "metadata": {},
   "outputs": [],
   "source": []
  },
  {
   "cell_type": "code",
   "execution_count": null,
   "metadata": {},
   "outputs": [],
   "source": []
  }
 ],
 "metadata": {
  "kernelspec": {
   "display_name": "Python 3",
   "language": "python",
   "name": "python3"
  },
  "language_info": {
   "codemirror_mode": {
    "name": "ipython",
    "version": 3
   },
   "file_extension": ".py",
   "mimetype": "text/x-python",
   "name": "python",
   "nbconvert_exporter": "python",
   "pygments_lexer": "ipython3",
   "version": "3.7.4"
  }
 },
 "nbformat": 4,
 "nbformat_minor": 2
}
